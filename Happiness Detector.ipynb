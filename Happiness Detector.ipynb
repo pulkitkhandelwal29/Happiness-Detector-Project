{
 "cells": [
  {
   "cell_type": "markdown",
   "id": "1ef3a33a",
   "metadata": {},
   "source": [
    "# Happiness Detection Project"
   ]
  },
  {
   "cell_type": "code",
   "execution_count": 1,
   "id": "071a2ca7",
   "metadata": {},
   "outputs": [],
   "source": [
    "#Importing cv2\n",
    "import cv2"
   ]
  },
  {
   "cell_type": "markdown",
   "id": "18ca1477",
   "metadata": {},
   "source": [
    "### Loading Haar Cascades Files"
   ]
  },
  {
   "cell_type": "code",
   "execution_count": 2,
   "id": "9efd0198",
   "metadata": {},
   "outputs": [],
   "source": [
    "#Loading cascades\n",
    "face_cascade = cv2.CascadeClassifier('haarcascade_frontalface_default.xml')\n",
    "eye_cascade = cv2.CascadeClassifier('haarcascade_eye.xml')\n",
    "smile_cascade = cv2.CascadeClassifier('haarcascade_smile.xml')\n",
    "\n",
    "#This file contains features that help you detect that this is a face or an eye or smile\n",
    "#Cascades work on black and white image"
   ]
  },
  {
   "cell_type": "markdown",
   "id": "ccd607e6",
   "metadata": {},
   "source": [
    "## Function to detect face from image"
   ]
  },
  {
   "cell_type": "code",
   "execution_count": 9,
   "id": "fbe95093",
   "metadata": {},
   "outputs": [],
   "source": [
    "def detect(gray, frame): \n",
    "    # We create a function that takes as input the image in black and white (gray) \n",
    "    #and the original image (frame), and that will return the same image with the detector rectangles. \n",
    "    \n",
    "    faces = face_cascade.detectMultiScale(gray,scaleFactor=1.3,minNeighbors=5)\n",
    "    # We apply the detectMultiScale method from the face cascade to locate one or several faces in the image.\n",
    "    #scaleFactor--specifying how much the image size is reduced at each image scale\n",
    "    #minNeighbors--specifying how many neighbors each candidate rectangle should have\n",
    "    \n",
    "    for (x, y, w, h) in faces: # For each detected face: (faces is the tuple of x,y--point of upper left corner,w-width,h-height)\n",
    "        cv2.rectangle(frame, (x,y), (x+w,y+h), (255,0,0), 3)  #frame on which rectangle will be there,top-left,bottom-right,color,thickness\n",
    "        \n",
    "        roi_gray = gray[y:y+h, x:x+w] # We get the region of interest in the black and white image. (range from y to y+h)\n",
    "        #This region is calculated as to save computation time to again search for eyes in whole image\n",
    "        #It's better to detect a face and take the region of interest i.e. face and find eyes in it\n",
    "        roi_color = frame[y:y+h, x:x+w] # We get the region of interest in the colored image.\n",
    "        \n",
    "        eyes = eye_cascade.detectMultiScale(roi_gray, scaleFactor=1.1,minNeighbors=22)\n",
    "        \n",
    "        for (ex, ey, ew, eh) in eyes: # For each detected eye: (Again retrieving x,y,w,h)\n",
    "            cv2.rectangle(roi_color,(ex, ey),(ex+ew, ey+eh), (0, 255, 0), 3)\n",
    "        \n",
    "        smile = smile_cascade.detectMultiScale(roi_gray, scaleFactor=1.7,minNeighbors=22)\n",
    "        \n",
    "        for (sx, sy, sw, sh) in smile: # For each detected smile: (Again retrieving x,y,w,h)\n",
    "            cv2.rectangle(roi_color,(sx, sy),(sx+sw, sy+sh), (0, 0, 255), 3)\n",
    "        \n",
    "    return frame # We return the image with the detector rectangles.   "
   ]
  },
  {
   "cell_type": "markdown",
   "id": "0943e7f5",
   "metadata": {},
   "source": [
    "## Detecting Face from Live Camera"
   ]
  },
  {
   "cell_type": "code",
   "execution_count": 10,
   "id": "521f00db",
   "metadata": {},
   "outputs": [],
   "source": [
    "cap = cv2.VideoCapture(0) # We turn the webcam on\n",
    "\n",
    "while True: \n",
    "    \n",
    "    ret, frame = cap.read(0)  # We get the last frame.\n",
    "    \n",
    "    gray = cv2.cvtColor(frame, cv2.COLOR_BGR2GRAY) # We do some colour transformations. (converting frame to gray)\n",
    "\n",
    "    canvas = detect(gray,frame)\n",
    " \n",
    "    cv2.imshow('Video Face Detection', canvas) \n",
    " \n",
    "    c = cv2.waitKey(1) \n",
    "    if c == 27:  #Press 'Esc' key\n",
    "        break \n",
    "        \n",
    "cap.release()  # We turn the webcam off.\n",
    "cv2.destroyAllWindows() # We destroy all the windows inside which the images were displayed.\n"
   ]
  }
 ],
 "metadata": {
  "kernelspec": {
   "display_name": "Python 3",
   "language": "python",
   "name": "python3"
  },
  "language_info": {
   "codemirror_mode": {
    "name": "ipython",
    "version": 3
   },
   "file_extension": ".py",
   "mimetype": "text/x-python",
   "name": "python",
   "nbconvert_exporter": "python",
   "pygments_lexer": "ipython3",
   "version": "3.8.8"
  }
 },
 "nbformat": 4,
 "nbformat_minor": 5
}
